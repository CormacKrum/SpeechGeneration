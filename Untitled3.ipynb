{
 "cells": [
  {
   "cell_type": "code",
   "execution_count": 82,
   "metadata": {},
   "outputs": [],
   "source": [
    "import requests\n",
    "link=r\"https://cb.lk/speech\"\n",
    "data=requests.get(link)\n",
    "speech=data.text\n",
    "\n",
    "window=25\n",
    "\n",
    "freq={}\n",
    "\n",
    "for k in range(window,len(speech)):\n",
    "    word=speech[k-window:k]\n",
    "    ch=speech[k]\n",
    "    if word not in freq:\n",
    "        freq[word]={}\n",
    "    if ch not in freq[word]:\n",
    "        freq[word][ch]=0\n",
    "    freq[word][ch]+=1\n",
    "\n",
    "seed=\"There was a time when development was believed to depend on the quantity of capital\"\n",
    "word=seed[-window:]"
   ]
  },
  {
   "cell_type": "code",
   "execution_count": 85,
   "metadata": {},
   "outputs": [],
   "source": [
    "st=\"\"\n",
    "st+=seed\n",
    "\n",
    "import random\n",
    "i=0\n",
    "while(i<1000):\n",
    "    d=dict()\n",
    "    maxValue=0\n",
    "    maxKey=\"\"\n",
    "    l=[]\n",
    "    for key,value in freq[word].items():\n",
    "        d[key]=value\n",
    "    for key,value in sorted(d.items(),key=lambda k:k[1]):\n",
    "        l.append(key)\n",
    "    l=l[-3:]\n",
    "    key=random.choice(l)\n",
    "    st+=key\n",
    "    word=word[1:]+key\n",
    "    i+=1\n",
    "    "
   ]
  },
  {
   "cell_type": "code",
   "execution_count": 86,
   "metadata": {},
   "outputs": [
    {
     "name": "stdout",
     "output_type": "stream",
     "text": [
      "There was a time when development was believed to depend on the quantity of capitalement among the states  to create and attract whatever is needed there.  I call this new form of federalism  Co-operative and Competitive Federalism.\n",
      "You may be aware that  our economic growth had slowed down  during the last few years  Now,  my Government is putting all efforts  to ensure faster and yet inclusive growth. The initial results are encouraging.\n",
      "On the economic front,  during the first two quarters,  we registered a growth rate  which was one percent higher than the previous year.  The IMF has observed that  India will be the 2nd fastest growing economy among major countries. We are also working hard that the benefits of this growth reaches to the common man. We have launched major schemes on financial inclusion of all, providing funds to the un-banked, and ensuring efficient and direct transfer of benefits; funds to the unbanked; insurance within the reach of all; and, pension for everyone's sunset years. \n",
      "The world speaks of private sector and public sector. In India, we\n"
     ]
    }
   ],
   "source": [
    "print(st)"
   ]
  },
  {
   "cell_type": "code",
   "execution_count": null,
   "metadata": {},
   "outputs": [],
   "source": []
  }
 ],
 "metadata": {
  "kernelspec": {
   "display_name": "Python 3",
   "language": "python",
   "name": "python3"
  },
  "language_info": {
   "codemirror_mode": {
    "name": "ipython",
    "version": 3
   },
   "file_extension": ".py",
   "mimetype": "text/x-python",
   "name": "python",
   "nbconvert_exporter": "python",
   "pygments_lexer": "ipython3",
   "version": "3.7.4"
  }
 },
 "nbformat": 4,
 "nbformat_minor": 4
}
